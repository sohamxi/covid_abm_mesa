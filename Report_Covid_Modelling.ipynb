{
  "nbformat": 4,
  "nbformat_minor": 0,
  "metadata": {
    "colab": {
      "name": "Report Covid Modelling.ipynb",
      "provenance": [],
      "collapsed_sections": []
    },
    "kernelspec": {
      "name": "python3",
      "display_name": "Python 3"
    }
  },
  "cells": [
    {
      "cell_type": "markdown",
      "metadata": {
        "id": "iwy_Bae5HreV",
        "colab_type": "text"
      },
      "source": [
        "# Agent Based Simulation For Covid-19 (Health & Economical Effects)\n",
        "--------------------------------\n",
        "\n",
        "  We are living unusual times, where humankind is under the attack of a microscopic creature that threatens our health (physical and mental), economy, social goods, etc. The number of variables involved and the complexity of their relationships is making the people freak out to understand the implications of his local actions in future global scenarios, from short to midterms. But how could we project those future scenarios? How does the government know what will be the positive effects of taking such protective measures?  \n",
        "\n",
        "\n",
        "\n",
        "\n",
        "$\\text{Why this?}$ \n",
        "\n",
        "\n",
        "\n",
        "> *   Initial Responses to COVID-19 were Disaster\n",
        "*   Need to go beyond Forecasting the number of infected people and death\n",
        "* Can help Govt. or other governing authorities to improve Disaster Response Management \n",
        "\n",
        "\n",
        "\n",
        "\n",
        "\n",
        "\n",
        "\n"
      ]
    },
    {
      "cell_type": "markdown",
      "metadata": {
        "id": "7HNFo9x6K7mq",
        "colab_type": "text"
      },
      "source": [
        "## Background on Epidemiological Models\n",
        "\n",
        "  The study of disease occurrence is called epidemiology. An epidemic is an\n",
        "unusually large, short term outbreak of a disease. A disease is called endemic if it persists in a population.     <br />\n",
        "The spread of an infectious disease involves not only\n",
        "disease-related factors such as the infectious agent, mode of transmission, latent period, infectious period, susceptibility and resistance, but also social, cultural, demographic, economic and geographic factors.<br />\n",
        "\n"
      ]
    },
    {
      "cell_type": "markdown",
      "metadata": {
        "id": "iJJhEzSAPSjK",
        "colab_type": "text"
      },
      "source": [
        "$$\\text{Mode of Transmission} $$\n",
        "-----------------------------------------------------------------------------\n",
        "Agent | Person -> Person | Person -> Environment -> Person |Reservoir -> vector -> Person | Reservoir -> Person\n",
        "------------ | ------------- |------------ | ------------- | ------------ \n",
        "Virus | Chicken Pox, HIV |  | Dengue , Yellow Fever | Rabies\n",
        "Bacteria | Pneumonia| Cholera, Typhoid | Plague | Brucellosis\n",
        "Protozoa | Syphillis | Amebiasis | Malaria | \n",
        "Helminths | | | Schistosomiasis, Onchoccrciasis | Trichinosis\n",
        "\n",
        "\n",
        "Above Table classifies diseases by agent and method of transmission, and COVID falls in **Person to Person category** and that is why we have planned to go ahead with ***Agent Based Modelling*** to simulate this Epidemic. Though the Model  presented are simple and their mathematical analyses are elementary, these models provide notation, concepts, intuition and foundation for considering more refined models.  "
      ]
    },
    {
      "cell_type": "markdown",
      "metadata": {
        "id": "Lcj8Q4Nc-9sa",
        "colab_type": "text"
      },
      "source": [
        "$\\text{Existing work in Epidemiology Modelling} $:\n",
        "----------------\n",
        "Even though vaccines are available for many infectious diseases, these diseases still cause suffering and mortality in the world, especially in developing countries.In developed countries chronic diseases such as cancer and heart disease have received more attention than infectious diseases, but infectious diseases are still a more common cause of death in the world. <br />\n",
        "\n",
        "Although transmission mechanism from an infective to susceptibles is understood\n",
        "for nearly all infectious diseases, the transmission interactions in a population are very complex so that it is difficult to comprehend the large scale dynamics of disease spread without the formal structure of a mathematical model.An epidemiological model uses a microscopic description (the role of an infectious individual) to predict the macroscopic behavior of disease spread through a population. <br />\n",
        "\n",
        "The Existing Models for Epidemics can be classified into two major Classes:\n",
        "\n",
        "1. Susceptible Infected Susceptible(SIS) Model\n",
        "2. Susceptible Infected Recovered (SIR) Model\n",
        "\n",
        "For SIS models recovery doesn't give immunity whereas for SIR models reccovery generaly gives permanent immunity. There is another variant of SIR model called **SEIR models** where a certain proportion of the *Susceptible* population becomes *Exposed* before getting *Infected*. <br />\n",
        "\n",
        "For the case of Covid Modelling the more appropriate choice is SIR framework hence we have chosen that to model.\n",
        "\n",
        "\n",
        "\n"
      ]
    },
    {
      "cell_type": "markdown",
      "metadata": {
        "id": "A7k3eK-9kU0h",
        "colab_type": "text"
      },
      "source": [
        "$\\text{Agent Based Models (ABM)} :$\n",
        "-------------------\n",
        "Computer Simulations involving multiple entities (Agents) acting and interacting with one another based on their programmed behaviour.   <br />\n",
        "Sometimes we may have an understanding of how the individual components of  a system  behave, and want to see what system level behaviours and effects emerge from their interaction. In such scenario ABM can be very useful.\n",
        "\n",
        "\n",
        "* $\\text{Basic Structure} :$\n",
        "\n",
        "  * Individual Agent\n",
        "      * Individual Parameters\n",
        "      * Actions\n",
        "  * Common Environment\n",
        "      * Shared Parameters\n",
        "      * Interaction\n",
        "  * Population of Agents\n",
        "      * Agents interact between them (Contact & Infect)\n",
        "\n",
        "* $ Advantages : $ <br />\n",
        "    * Simple to implement\n",
        "    * Computationally Inexpansive\n",
        "\n",
        "* $\\text{Draw Backs} : $\n",
        "    * Limited number OF Cases can be simulated\n",
        "\n",
        "\n"
      ]
    },
    {
      "cell_type": "markdown",
      "metadata": {
        "id": "YLCUSYJhEOd8",
        "colab_type": "text"
      },
      "source": [
        "$\\text{Effects of Pandemic (COVID-19)} :$\n",
        "-----------------\n",
        "\n",
        "Though while thinking about Effect of any Pandemic like COVID, we mainly mention health of population, but this is hardly the full picture as reality has shown us over the past few months. Following are the major affects we as Human population have to suffer due to a pandemic:\n",
        "\n",
        "1. HealthCare System  \n",
        "    * Hospitalization\n",
        "    * Deaths\n",
        "2. Economic Effects\n",
        "    * Unemployment\n",
        "    * Public Spending/ Corporate Bailouts\n",
        "3. Social Effects\n",
        "    * Domestic Violence\n",
        "    * Psychological Disorders\n",
        "    * Reduced # Traffic Accidents\n",
        "4. Environmental\n",
        "    * $CO_{2}$ emmisson reduction\n",
        "    \n",
        "\n",
        "Hence, only modelling the infection part doesn't help us that much, there are more aspects to the story."
      ]
    },
    {
      "cell_type": "markdown",
      "metadata": {
        "id": "LRxKk5wCHpXc",
        "colab_type": "text"
      },
      "source": [
        "$\\text{What we want to model ? }$\n",
        "\n",
        "* Primary Cause\n",
        "    * COVID-19\n",
        "* Secondary Cause\n",
        "    * Economical [Poverty]\n",
        "    * Political [Misconception, Wrong Decision]\n",
        "    * Social [Habits/ Mis-conducts]\n",
        "\n",
        "We Basically want to create a model that mimics all these behaviours and test some sets of Interventions [Decision Variables] and their effects on the output or Response  Variables.\n",
        "\n"
      ]
    },
    {
      "cell_type": "markdown",
      "metadata": {
        "id": "AntUrkkFLMbR",
        "colab_type": "text"
      },
      "source": [
        "### Model Desciption :\n",
        "\n",
        "$$\\mathcal{M}: S, \\theta \\rightarrow S$$\n",
        "$$S_{t+1} \\sim P\\left(S_{t} | \\theta\\right)$$\n",
        "\n",
        "\n",
        "* $\\theta=\\{\\mathrm{C}, \\mathrm{D}\\}-$ The parameter set <br />\n",
        "  * $\\mathrm{C}=\\left\\{\\mathrm{c}_{1}, \\ldots, \\mathrm{c}_{n}\\right\\}-$ Constants\n",
        "  * $D=\\left\\{d_{1}, \\ldots, d_{m}\\right\\}-$ Decision\n",
        "Variables\n",
        "\n",
        "* $S=\\left\\{s_{1}, \\ldots, s_{w}\\right\\}-\\text { Internal State }$ <br />\n",
        "    o Not always observable\n",
        "\n",
        "* $\\mathrm{R}=\\left\\{\\mathrm{r}_{1}, \\ldots, \\mathrm{r}_{\\mathrm{r}}\\right\\}-$ Response Variables </br >\n",
        "    * $r_{i}=f_{i}(S) $\n"
      ]
    },
    {
      "cell_type": "markdown",
      "metadata": {
        "id": "dLApESMqMSn8",
        "colab_type": "text"
      },
      "source": [
        "$\\text{General Goal} : $\n",
        "\n",
        "* Help the Government or Any other Government Body\n",
        "\n",
        "* $How:$ Prescribing Interventions\n",
        "    * Changing Decision Variables to achieve desired levels in Response Variables\n",
        "\n",
        "* $Problem :$ There is no data for every thing\n",
        "    * Some effects and Causes are not jointly sampled\n",
        "        * Environmental effects are not being recorded together with pandemics\n",
        "    * Complex Adaptive System\n",
        "\n",
        "* $Plan : $ Create Hypothesis ; Create Scenarios\n",
        "    * Simulate all scenarios with all conditions"
      ]
    },
    {
      "cell_type": "markdown",
      "metadata": {
        "id": "jwW7zMJwddX6",
        "colab_type": "text"
      },
      "source": [
        "$\\text{Methodology : }$\n",
        "-------------------------\n",
        "\n",
        "We have used *$mesa$* , an agent based modelling framework, to simulate the spread of Covid epidemic. Our model is an improvisation on the widely popular SEIR model in epidemiology to incorporate certain other factors as in population density of an area, a high proportion of asymptomatic cases and the economic impact of such a epidemic. We also try to simulate the effects of different policy interventions so that it can aid the concerned authorities in the decision making process. \n",
        "\n",
        "### $\\text{Components of mesa Framework} :$ ###\n",
        "\n",
        "\n",
        "The major components in such a simulation are two things :-\n",
        "\n",
        "1. $Agent$ – We modelled a human agent with some simple attributes and defined a few interactions that an agent has with the other agents and the environment in general. Following are the major parameters of Agent:\n",
        "    * Infection related parameter:\n",
        "        * State – Most of the agents starts in a state of being susceptible\n",
        "        * Severity – If infected there are three possible severity assumed. ‘Asymptomatic’, ‘Quarantined’ and ‘Severe’(synonymous with hospitalised)\n",
        "\n",
        "    * Parameter Affecting Economic Condition :\n",
        "        * Social stratum – uniformly chosen between 5 possible quantiles\n",
        "        * Wealth – A parameter to indicate the current wealth of an agent. Used Lorenz curve to distribute overall wealth as per the social stratum one agent belongs to.\n",
        "        * Income - To keep track of the income in each step\n",
        "        * Expenditure – To keep track of the expenses in each step\n",
        "\n",
        "2. $Model$ - Similarly we model the environment in which the agents interact with some properties of itself:\n",
        "\n",
        "    *\tState of the Environment\n",
        "        *  Number of Susceptible Agents\n",
        "        *  Number of Exposed Agents\n",
        "        *  Number of Infected Agents\n",
        "        *  Number of Dead Agents\n",
        "\n",
        "    * Infection Specific\n",
        "        * Population\n",
        "        *\tTransmission probability of the disease\n",
        "        *\tReinfection Rate (In case there is some chance of reinfection happening)\n",
        "        *\tProbability of Movement (Affected by policy decisions such as lockdown)\n",
        "        *\tDeath Rate – Proportion of infected dying from the epidemic\n",
        "        * Recovery days & Recovery Sd – We use it to sample recovery period for a random agent\n",
        "        *\tInitial Infected Percentage – To infuse the infection in the environment\n",
        "        *\tSevere Percentage – Proportion of cases becoming severe leading to possible death\n",
        "        *\tHospital Capacity – Proportion of hospital beds available for an agent\n",
        "\n",
        "    * Economic state of the Environment\n",
        "        * Total wealth in system\n",
        "        * Wealth in Different Social Stratums\n",
        "    * Policy Interventions\n",
        "        * Imposing Lock-Down\n",
        "        * Fast Screening and Quarantine\n",
        "        * Mandatary Masks in Public Interaction\n",
        "        * Increase Public awareness and Hygine\n",
        "      \n",
        "\n"
      ]
    },
    {
      "cell_type": "markdown",
      "metadata": {
        "id": "mnIHW3TdjFM6",
        "colab_type": "text"
      },
      "source": [
        "## Health Impact\n",
        "\n",
        "$Assumptions : $\n",
        "\n",
        "1.\tThe environment is assumed to be a 10*10 fixed sized window\n",
        "2.\tSum of Susceptible, Exposed, Infected, Recovered and Died people at any step is equal to the initial population\n",
        "3.\tOnly an asymptomatic person moves around  \n",
        "4.\tIt takes some time for the person to show symptoms event though they are already infected.\n",
        "5.\tAgents quarantine themselves after identification of symptoms\n",
        "6.\tAgents move randomly between only the neighbouring grids\n",
        "7.\tAgents interact with other agents only if they are present in the same cell\n",
        "8.\tDeath Rate increases three-fold if the severe cases go beyond the hospital capacity\n",
        "\n",
        "\n",
        "\n"
      ]
    },
    {
      "cell_type": "markdown",
      "metadata": {
        "id": "WVvcgxhNpHrB",
        "colab_type": "text"
      },
      "source": [
        "$\\text{Interaction Mechanism :}$\n",
        "\n",
        "After being initialised at random grids with a very small number of infected agents all the agents move and interact with the other agents in each step. In those interactions the infected people can transmit the disease to other agents with a certain probability i.e. $\\text{transmission probability}$. If an interacting agent catches the disease, we change its state from being *susceptible*  to  *infected*  and if one does not then we mark them as *exposed*.   <br />\n",
        "\n",
        "Once an agent catches the infection it shows some time for him to show the symptoms which is sampled randomly from $\\mathcal{N}(10,4)$ . While being in this asymptomatic state an agent can move around and infect others in the similar way, they got infected. Once they show symptom, we change their severity to quarantined. Amongst all the infected agents a small percentage of them (severe percentage) can develop severe symptoms leading their need of hospitalisation. Amongst the severe cases we calculate the conditional probability of a severe case leading to death and perform Bernoulli trial to choose whether the agent dies in that step. We then collect all the dead agents and remove them from the simulation.  <br />\n",
        "\n",
        "\n",
        "We also assign a recovery period for each agent randomly from $\\mathcal{N}$(recovery_time, recovery_sd). If the time since the person got infected is more than the recovery period, we change their state to recovered. \n",
        "We run this simulation for 60 steps and collect the model states in each step to simulate the covid spread with time.  <br />\n",
        "\n",
        "We also try to see the effect of different policy interventions and various population densities in the spread of the epidemic which are described in detail in the results section.\n"
      ]
    },
    {
      "cell_type": "markdown",
      "metadata": {
        "id": "EM0BcgddtrcL",
        "colab_type": "text"
      },
      "source": [
        "## Economical Impact:\n",
        "\n",
        "A secondary goal is to simulate the impact caused in the economy — especially in each agent’s income and wealth — by the mobility restrictions.\n",
        "\n",
        "\n",
        "$ Assumptions :$\n",
        "\n",
        "1. Only people with Age >= 18 can posses wealth and Can earn money in each step\n",
        "2. During the initialization of the simulation, Total wealth is Distributed among all the quintiles of Social Strata according to  [Distribution of Wealth](https://en.wikipedia.org/wiki/Distribution_of_wealth).\n",
        "3. Above distribution of wealth has been represented by using a Lorentz curve, such as ***wealth ~ Lorentz [ 𝓤(0,100) / 5 ]***\n",
        "4. Income of an agent in a particular step depends on his/her mobility, i.e., if he/she doesn't move he/she won't earn in that step. \n",
        "5. Expense will occur irrspective of her/his mobility till he/she is alive.\n",
        "\n",
        "$Mechanism : $"
      ]
    },
    {
      "cell_type": "code",
      "metadata": {
        "id": "WjqFahzAI_L_",
        "colab_type": "code",
        "colab": {}
      },
      "source": [
        ""
      ],
      "execution_count": 0,
      "outputs": []
    }
  ]
}